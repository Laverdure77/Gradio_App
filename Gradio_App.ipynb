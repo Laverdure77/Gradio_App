{
 "cells": [
  {
   "cell_type": "markdown",
   "metadata": {},
   "source": [
    "# Gradio App"
   ]
  },
  {
   "cell_type": "code",
   "execution_count": 1,
   "metadata": {},
   "outputs": [
    {
     "name": "stderr",
     "output_type": "stream",
     "text": [
      "C:\\Users\\Sebastien\\AppData\\Local\\Temp\\ipykernel_14424\\455743657.py:136: GradioDeprecationWarning: `width` is deprecated in `Interface()`, please use it within `launch()` instead.\n",
      "  components.Label(label=\"Predictions\", width=400, height=100),\n",
      "C:\\Users\\Sebastien\\AppData\\Local\\Temp\\ipykernel_14424\\455743657.py:136: GradioDeprecationWarning: `height` is deprecated in `Interface()`, please use it within `launch()` instead.\n",
      "  components.Label(label=\"Predictions\", width=400, height=100),\n"
     ]
    },
    {
     "name": "stdout",
     "output_type": "stream",
     "text": [
      "Running on local URL:  http://127.0.0.1:7860\n",
      "\n",
      "To create a public link, set `share=True` in `launch()`.\n"
     ]
    },
    {
     "data": {
      "text/html": [
       "<div><iframe src=\"http://127.0.0.1:7860/\" width=\"100%\" height=\"500\" allow=\"autoplay; camera; microphone; clipboard-read; clipboard-write;\" frameborder=\"0\" allowfullscreen></iframe></div>"
      ],
      "text/plain": [
       "<IPython.core.display.HTML object>"
      ]
     },
     "metadata": {},
     "output_type": "display_data"
    },
    {
     "data": {
      "text/plain": []
     },
     "execution_count": 1,
     "metadata": {},
     "output_type": "execute_result"
    },
    {
     "name": "stdout",
     "output_type": "stream",
     "text": [
      "1/1 [==============================] - 6s 6s/step\n",
      "1/1 [==============================] - 0s 91ms/step\n",
      "1/1 [==============================] - 0s 92ms/step\n",
      "1/1 [==============================] - 0s 59ms/step\n"
     ]
    }
   ],
   "source": [
    "import gradio as gr\n",
    "import numpy as np\n",
    "from tensorflow.keras.models import load_model\n",
    "from tensorflow.keras.optimizers import Adam\n",
    "from tensorflow.keras.applications.inception_v3 import preprocess_input\n",
    "from tensorflow.keras.preprocessing import image\n",
    "from gradio import components\n",
    "from PIL import Image\n",
    "\n",
    "# List of rock classes\n",
    "class_names = ['Conglomerate', 'Gneiss', 'Granite', 'Limestone', 'Pegmatite', 'Sandstone', 'Shale', 'Shoshonite porphyry']\n",
    "\n",
    "# Load the pre-trained model\n",
    "model = load_model(r\"model.h5\", compile=False)\n",
    "\n",
    "# Compile the model\n",
    "learning_rate = 0.0001\n",
    "model.compile(\n",
    "    optimizer=Adam(learning_rate=learning_rate),\n",
    "    loss=\"categorical_crossentropy\",\n",
    "    metrics=[\"accuracy\"],\n",
    ")\n",
    "\n",
    "def preprocess_image(img, crop_option):\n",
    "    # Get the original image size\n",
    "    width, height = img.size\n",
    "\n",
    "    if crop_option == \"Square crop\":  # Square crop on smallest dimension\n",
    "        # Calculate the size of the centered square crop\n",
    "        size = min(width, height)\n",
    "        # Calculate the coordinates for the crop\n",
    "        left = (width - size) // 2\n",
    "        top = (height - size) // 2\n",
    "        right = (width + size) // 2\n",
    "        bottom = (height + size) // 2\n",
    "        # Crop the image\n",
    "        img = img.crop((left, top, right, bottom))\n",
    "    \n",
    "    elif crop_option == \"600x600 center crop\":  # 600x600 center crop\n",
    "        # Calculate the coordinates for the crop\n",
    "        left = (width - 600) // 2\n",
    "        top = (height - 600) // 2\n",
    "        right = left + 600\n",
    "        bottom = top + 600\n",
    "        # Crop the image\n",
    "        img = img.crop((left, top, right, bottom))\n",
    "    \n",
    "    elif crop_option == \"300x300 center crop\":  # 300x300 center crop\n",
    "        # Calculate the coordinates for the crop\n",
    "        left = (width - 300) // 2\n",
    "        top = (height - 300) // 2\n",
    "        right = left + 300\n",
    "        bottom = top + 300   \n",
    "        # Crop the image\n",
    "        img = img.crop((left, top, right, bottom))\n",
    "\n",
    "    # Resize the cropped image to 299x299\n",
    "    img = img.resize((299, 299))\n",
    "    \n",
    "    img_array = image.img_to_array(img)\n",
    "    img_array = np.expand_dims(img_array, axis=0)\n",
    "    img_array = preprocess_input(img_array)\n",
    "    return img_array\n",
    "\n",
    "\n",
    "def predict(image, crop_option):\n",
    "    preprocessed_image = preprocess_image(image, crop_option)\n",
    "    predictions = model.predict(preprocessed_image)\n",
    "    probabilities = predictions[0]\n",
    "\n",
    "    sorted_indices = np.argsort(probabilities)[::-1]  # Sort indices in descending order\n",
    "    top_indices = sorted_indices[:3]  # Select the top 3 indices\n",
    "    top_class_names = [class_names[i] for i in top_indices]\n",
    "    top_probabilities = [probabilities[i] for i in top_indices]\n",
    "\n",
    "    return (\n",
    "        {class_name: float(probability) for class_name, probability in zip(top_class_names, top_probabilities)},\n",
    "        preprocessed_image[0],  # Return the preprocessed image as the second output\n",
    "    )\n",
    "\n",
    "article = f\"\"\"# Welcome to the MinersAI Rock Classification Deep Learning App!\n",
    "\n",
    "## Introduction\n",
    "\n",
    "Are you fascinated by the diverse world of rocks ? Our app brings cutting-edge AI technology to the realm of geology, allowing you to explore and classify various types of rocks with ease.\n",
    "\n",
    "## How it Works\n",
    "\n",
    "Using the power of advanced image recognition algorithms, our app can analyze images of rocks and identify their types based on distinct features such as texture, color, patterns, and more. Whether you're an amateur rock enthusiast, a student, or a geology professional, this app is designed to assist you in classifying rocks efficiently.\n",
    "\n",
    "## Key Features\n",
    "\n",
    "- **Image Upload:** Simply upload an image of the rock you want to classify.\n",
    "- **Crop Options:** Choose how you want to crop the image before resizing.\n",
    "- **Instant Analysis:** Receive real-time results and insights about the rock's classification.\n",
    "- **User-Friendly Interface:** Our intuitive interface makes rock classification easy and accessible to all users.\n",
    "- **Educational Tool:** Perfect for learning about different rock types and their distinguishing features.\n",
    "\n",
    "## Getting Started\n",
    "\n",
    "To start classifying rocks using our app, follow these steps:\n",
    "\n",
    "1. Upload an image of the rock.\n",
    "2. Select a crop option using the radio box.\n",
    "3. Click on the \"Submit\" button to start the classification.\n",
    "4. Explore the classification result.\n",
    "\n",
    "## Rock Types\n",
    "\n",
    "Here are the rock types that our app can classify:\n",
    "\n",
    "{\", \".join(class_names)}\n",
    "\n",
    "## Embrace the World of Geology\n",
    "\n",
    "Join us in unraveling the mysteries of rocks through the lens of AI. Whether you're identifying rocks you've collected or simply curious about the geological makeup of the world around you, our Rock Classification Computer Vision App is here to assist you.\n",
    "\n",
    "Get ready to discover the incredible stories behind every rock! 🌍🔬\n",
    "\n",
    "[MinersAI Homepage](https://www.minersai.com/)\n",
    "\"\"\"\n",
    "\n",
    "\n",
    "iface = gr.Interface(\n",
    "    fn=predict,\n",
    "    inputs=[\n",
    "        components.Image(type=\"pil\", label=\"Upload an image\", width=1000, height=600),\n",
    "        components.Radio(label=\"Crop Options\", choices=[\n",
    "            \"No crop\",\n",
    "            \"Square crop\",\n",
    "            \"600x600 center crop\",\n",
    "            \"300x300 center crop\",\n",
    "        ], value=\"No crop\"),\n",
    "    ],\n",
    "    outputs=[\n",
    "        components.Label(label=\"Predictions\", width=400, height=100),\n",
    "        components.Image(type=\"numpy\", label=\"Preprocessed Image\", width=320, height=320)\n",
    "    ],\n",
    "    article=article,\n",
    "    theme=gr.themes.Base(),\n",
    "    allow_flagging=\"never\"\n",
    ")\n",
    "\n",
    "iface.launch(share=False, auth=[(\"minersai\", \"minersai\"),(\"admin\", \"minersai\")], auth_message=\"Welcome to MinersAI Rock Classification Tool, please login below :\")\n"
   ]
  }
 ],
 "metadata": {
  "kernelspec": {
   "display_name": "Python 3",
   "language": "python",
   "name": "python3"
  },
  "language_info": {
   "codemirror_mode": {
    "name": "ipython",
    "version": 3
   },
   "file_extension": ".py",
   "mimetype": "text/x-python",
   "name": "python",
   "nbconvert_exporter": "python",
   "pygments_lexer": "ipython3",
   "version": "3.10.6"
  },
  "orig_nbformat": 4
 },
 "nbformat": 4,
 "nbformat_minor": 2
}
